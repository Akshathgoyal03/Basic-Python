{
  "nbformat": 4,
  "nbformat_minor": 0,
  "metadata": {
    "colab": {
      "provenance": [],
      "authorship_tag": "ABX9TyMDHs+CPqhzBZQNMbc6RY2z",
      "include_colab_link": true
    },
    "kernelspec": {
      "name": "python3",
      "display_name": "Python 3"
    },
    "language_info": {
      "name": "python"
    }
  },
  "cells": [
    {
      "cell_type": "markdown",
      "metadata": {
        "id": "view-in-github",
        "colab_type": "text"
      },
      "source": [
        "<a href=\"https://colab.research.google.com/github/Akshathgoyal03/Basic-Python/blob/main/Untitled4.ipynb\" target=\"_parent\"><img src=\"https://colab.research.google.com/assets/colab-badge.svg\" alt=\"Open In Colab\"/></a>"
      ]
    },
    {
      "cell_type": "code",
      "execution_count": null,
      "metadata": {
        "colab": {
          "base_uri": "https://localhost:8080/",
          "height": 998
        },
        "id": "hIWRgR7Fiaqj",
        "outputId": "99a47243-cba6-4c31-92e9-43e7e88e1374"
      },
      "outputs": [
        {
          "output_type": "stream",
          "name": "stdout",
          "text": [
            "{'data': array([[   8.3252    ,   41.        ,    6.98412698, ...,    2.55555556,\n",
            "          37.88      , -122.23      ],\n",
            "       [   8.3014    ,   21.        ,    6.23813708, ...,    2.10984183,\n",
            "          37.86      , -122.22      ],\n",
            "       [   7.2574    ,   52.        ,    8.28813559, ...,    2.80225989,\n",
            "          37.85      , -122.24      ],\n",
            "       ...,\n",
            "       [   1.7       ,   17.        ,    5.20554273, ...,    2.3256351 ,\n",
            "          39.43      , -121.22      ],\n",
            "       [   1.8672    ,   18.        ,    5.32951289, ...,    2.12320917,\n",
            "          39.43      , -121.32      ],\n",
            "       [   2.3886    ,   16.        ,    5.25471698, ...,    2.61698113,\n",
            "          39.37      , -121.24      ]]), 'target': array([4.526, 3.585, 3.521, ..., 0.923, 0.847, 0.894]), 'frame': None, 'target_names': ['MedHouseVal'], 'feature_names': ['MedInc', 'HouseAge', 'AveRooms', 'AveBedrms', 'Population', 'AveOccup', 'Latitude', 'Longitude'], 'DESCR': '.. _california_housing_dataset:\\n\\nCalifornia Housing dataset\\n--------------------------\\n\\n**Data Set Characteristics:**\\n\\n:Number of Instances: 20640\\n\\n:Number of Attributes: 8 numeric, predictive attributes and the target\\n\\n:Attribute Information:\\n    - MedInc        median income in block group\\n    - HouseAge      median house age in block group\\n    - AveRooms      average number of rooms per household\\n    - AveBedrms     average number of bedrooms per household\\n    - Population    block group population\\n    - AveOccup      average number of household members\\n    - Latitude      block group latitude\\n    - Longitude     block group longitude\\n\\n:Missing Attribute Values: None\\n\\nThis dataset was obtained from the StatLib repository.\\nhttps://www.dcc.fc.up.pt/~ltorgo/Regression/cal_housing.html\\n\\nThe target variable is the median house value for California districts,\\nexpressed in hundreds of thousands of dollars ($100,000).\\n\\nThis dataset was derived from the 1990 U.S. census, using one row per census\\nblock group. A block group is the smallest geographical unit for which the U.S.\\nCensus Bureau publishes sample data (a block group typically has a population\\nof 600 to 3,000 people).\\n\\nA household is a group of people residing within a home. Since the average\\nnumber of rooms and bedrooms in this dataset are provided per household, these\\ncolumns may take surprisingly large values for block groups with few households\\nand many empty houses, such as vacation resorts.\\n\\nIt can be downloaded/loaded using the\\n:func:`sklearn.datasets.fetch_california_housing` function.\\n\\n.. rubric:: References\\n\\n- Pace, R. Kelley and Ronald Barry, Sparse Spatial Autoregressions,\\n  Statistics and Probability Letters, 33 (1997) 291-297\\n'}\n",
            "       MedInc  HouseAge  AveRooms  AveBedrms  Population  AveOccup  Latitude  \\\n",
            "0      8.3252      41.0  6.984127   1.023810       322.0  2.555556     37.88   \n",
            "1      8.3014      21.0  6.238137   0.971880      2401.0  2.109842     37.86   \n",
            "2      7.2574      52.0  8.288136   1.073446       496.0  2.802260     37.85   \n",
            "3      5.6431      52.0  5.817352   1.073059       558.0  2.547945     37.85   \n",
            "4      3.8462      52.0  6.281853   1.081081       565.0  2.181467     37.85   \n",
            "...       ...       ...       ...        ...         ...       ...       ...   \n",
            "20635  1.5603      25.0  5.045455   1.133333       845.0  2.560606     39.48   \n",
            "20636  2.5568      18.0  6.114035   1.315789       356.0  3.122807     39.49   \n",
            "20637  1.7000      17.0  5.205543   1.120092      1007.0  2.325635     39.43   \n",
            "20638  1.8672      18.0  5.329513   1.171920       741.0  2.123209     39.43   \n",
            "20639  2.3886      16.0  5.254717   1.162264      1387.0  2.616981     39.37   \n",
            "\n",
            "       Longitude  \n",
            "0        -122.23  \n",
            "1        -122.22  \n",
            "2        -122.24  \n",
            "3        -122.25  \n",
            "4        -122.25  \n",
            "...          ...  \n",
            "20635    -121.09  \n",
            "20636    -121.21  \n",
            "20637    -121.22  \n",
            "20638    -121.32  \n",
            "20639    -121.24  \n",
            "\n",
            "[20640 rows x 8 columns]\n",
            "MAE: 0.4461535271317829\n",
            "MSE: 0.4324216146043236\n",
            "R² Score: 0.6700101862970989\n"
          ]
        },
        {
          "output_type": "display_data",
          "data": {
            "text/plain": [
              "<Figure size 640x480 with 1 Axes>"
            ],
            "image/png": "[encoded data removed]"
          },
          "metadata": {}
        }
      ],
      "source": [
        "import pandas as pd\n",
        "import numpy as np\n",
        "import matplotlib.pyplot as plt\n",
        "from sklearn.model_selection import train_test_split\n",
        "from sklearn.preprocessing import StandardScaler\n",
        "from sklearn.neighbors import KNeighborsRegressor\n",
        "from sklearn.metrics import mean_absolute_error, mean_squared_error, r2_score\n",
        "from sklearn.datasets import fetch_california_housing\n",
        "data = fetch_california_housing()\n",
        "print(data)\n",
        "X = pd.DataFrame(data.data, columns=data.feature_names)[['MedInc', 'HouseAge', 'AveRooms', 'AveBedrms', 'Population', 'AveOccup', 'Latitude', 'Longitude']]\n",
        "y = data.target\n",
        "print(X)\n",
        "X_train, X_test, y_train, y_test = train_test_split(X, y, test_size=0.2, random_state=42)\n",
        "scaler = StandardScaler()\n",
        "X_train = scaler.fit_transform(X_train)\n",
        "X_test = scaler.transform(X_test)\n",
        "knn = KNeighborsRegressor(n_neighbors=5)\n",
        "knn.fit(X_train, y_train)\n",
        "y_pred = knn.predict(X_test)\n",
        "print(\"MAE:\", mean_absolute_error(y_test, y_pred))\n",
        "print(\"MSE:\", mean_squared_error(y_test, y_pred))\n",
        "print(\"R² Score:\", r2_score(y_test, y_pred))\n",
        "errors = [mean_squared_error(y_test, KNeighborsRegressor(n_neighbors=k).fit(X_train, y_train).predict(X_test)) for k in range(1, 20)]\n",
        "plt.plot(range(1, 20), errors, marker='o')\n",
        "plt.xlabel(\"K Neighbors\")\n",
        "plt.ylabel(\"MSE\")\n",
        "plt.title(\"Finding Best K\")\n",
        "plt.show()"
      ]
    },
    {
      "cell_type": "code",
      "source": [
        "a= int(input(\"Enter the numerator::\"))\n",
        "b=int(input(\"enter the denominator::\"))\n",
        "try:\n",
        "  division= a/b\n",
        "  print(\"no error occured and the answer of the division is :\", division)\n",
        "except ZeroDivisionError:\n",
        "  print(\"Denominator can't be zero\")\n",
        "\n",
        "\n"
      ],
      "metadata": {
        "colab": {
          "base_uri": "https://localhost:8080/"
        },
        "id": "4QP39K6jaG4C",
        "outputId": "072d5744-0321-4a67-b6cb-123cf2e37277"
      },
      "execution_count": 2,
      "outputs": [
        {
          "output_type": "stream",
          "name": "stdout",
          "text": [
            "Enter the numerator::50\n",
            "enter the denominator::0\n",
            "Denominator can't be zero\n"
          ]
        }
      ]
    },
    {
      "cell_type": "code",
      "source": [
        "data = [\"10\", \"20\", \"NaN\", \"30\",\"na\",\"ak\"]\n",
        "\n",
        "try:\n",
        "  print(int(data[5]))\n",
        "\n",
        "except ValueError as e:\n",
        "  print(\"Error:\", e)\n",
        "except IndexError as e:\n",
        "  print(\"Error:\", e)\n",
        "\n",
        "\n",
        "\n"
      ],
      "metadata": {
        "colab": {
          "base_uri": "https://localhost:8080/"
        },
        "id": "sTYNHSSicWKR",
        "outputId": "2f3ff14b-600b-45cd-ec82-c7d1435cab67"
      },
      "execution_count": 20,
      "outputs": [
        {
          "output_type": "stream",
          "name": "stdout",
          "text": [
            "Error: invalid literal for int() with base 10: 'ak'\n"
          ]
        }
      ]
    },
    {
      "cell_type": "code",
      "source": [
        "try:\n",
        "  file = open(\"New.txt\",\"r\")\n",
        "except FileNotFoundError:\n",
        "  print(\"Error:\")\n",
        "finally:\n",
        "  file.close()"
      ],
      "metadata": {
        "colab": {
          "base_uri": "https://localhost:8080/"
        },
        "id": "I_2ZK1RLdXNy",
        "outputId": "91f15368-9feb-424c-ed74-c2076ee1591f"
      },
      "execution_count": 15,
      "outputs": [
        {
          "output_type": "stream",
          "name": "stdout",
          "text": [
            "Error:\n"
          ]
        }
      ]
    },
    {
      "cell_type": "code",
      "source": [
        "import math\n",
        "try:\n",
        "  a=int(input(\"enter the number:\"))\n",
        "  sqroot= math.sqrt(a)\n",
        "  print(\"The square root is\",sqroot)\n",
        "\n",
        "except ValueError:\n",
        "  print(\"Error: The number can not be negative\")\n",
        "\n"
      ],
      "metadata": {
        "colab": {
          "base_uri": "https://localhost:8080/"
        },
        "id": "eNmG5kZ0eKI5",
        "outputId": "7093f3ff-8989-4438-cd53-6ac8d144ad2c"
      },
      "execution_count": 22,
      "outputs": [
        {
          "output_type": "stream",
          "name": "stdout",
          "text": [
            "enter the number:-9\n",
            "Error: The number can not be negative\n"
          ]
        }
      ]
    },
    {
      "cell_type": "code",
      "source": [
        "my_dict = {\"a\": 1, \"b\": 2}\n",
        "try:\n",
        "    try:\n",
        "        value = my_dict[\"c\"]\n",
        "        print(value)\n",
        "    except KeyError:\n",
        "        print(\"KeyError occurred: Key not found in the dictionary.\")\n",
        "    result = 10 / \"abc\"\n",
        "    print(result)\n",
        "except TypeError:\n",
        "    print(\"TypeError occurred: Invalid operation.\")"
      ],
      "metadata": {
        "colab": {
          "base_uri": "https://localhost:8080/"
        },
        "id": "4AvUmHdWfw-4",
        "outputId": "9d6e8114-43e8-42dd-fd20-093690130114"
      },
      "execution_count": 23,
      "outputs": [
        {
          "output_type": "stream",
          "name": "stdout",
          "text": [
            "Error: Key not found\n"
          ]
        }
      ]
    },
    {
      "cell_type": "code",
      "source": [
        "import math\n",
        "age= int(input(\"enter the age::\"))\n",
        "\n",
        "try:\n",
        "  if age<0:\n",
        "    raise ValueError(\"age can't be less than zero\")\n",
        "\n",
        "  if age>120:\n",
        "    raise ValueError(\"age can't be greater than 120\")\n",
        "\n",
        "except ValueError as e:\n",
        "  print(e)\n"
      ],
      "metadata": {
        "colab": {
          "base_uri": "https://localhost:8080/"
        },
        "id": "H5YeMI_pmpUO",
        "outputId": "c95abcd6-b9da-44c3-f951-917b5b2c1172"
      },
      "execution_count": 28,
      "outputs": [
        {
          "output_type": "stream",
          "name": "stdout",
          "text": [
            "enter the age121\n",
            "age can't be greater than 120\n"
          ]
        }
      ]
    },
    {
      "cell_type": "code",
      "source": [
        "while True:\n",
        "    try:\n",
        "        num = int(input(\"Enter a positive integer: \"))\n",
        "        if num <= 0:\n",
        "            raise ValueError(\"Input must be a positive integer.\")\n",
        "        break\n",
        "    except ValueError as e:\n",
        "        print(f\"Invalid input: {e}\")\n",
        "\n",
        "else:\n",
        "    print(f\"You entered a valid positive integer: {num}\")\n"
      ],
      "metadata": {
        "colab": {
          "base_uri": "https://localhost:8080/"
        },
        "id": "U6xtr6JLoFPn",
        "outputId": "aa4544ef-8d61-4f8d-8d0a-dcbc1e8413f6"
      },
      "execution_count": 30,
      "outputs": [
        {
          "name": "stdout",
          "output_type": "stream",
          "text": [
            "Enter a positive integer: -9\n",
            "Invalid input: Input must be a positive integer.\n",
            "Enter a positive integer: 5\n"
          ]
        }
      ]
    }
  ]
}